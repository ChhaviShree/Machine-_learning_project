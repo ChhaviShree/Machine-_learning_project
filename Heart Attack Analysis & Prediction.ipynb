{
 "cells": [
  {
   "cell_type": "markdown",
   "id": "c57f9f10",
   "metadata": {},
   "source": [
    "# part A: Data Preprocessing"
   ]
  },
  {
   "cell_type": "markdown",
   "id": "ba17e026",
   "metadata": {},
   "source": [
    "## step1: importing the libraries"
   ]
  },
  {
   "cell_type": "code",
   "execution_count": 1,
   "id": "b9e52a8f",
   "metadata": {},
   "outputs": [],
   "source": [
    "import numpy as np\n",
    "import matplotlib.pyplot as plt\n",
    "import pandas as pd\n",
    "from matplotlib import rcParams\n",
    "import warnings\n",
    "warnings.filterwarnings('ignore')"
   ]
  },
  {
   "cell_type": "code",
   "execution_count": 1,
   "id": "9184f1b6",
   "metadata": {},
   "outputs": [],
   "source": [
    "import numpy as np\n",
    "import matplotlib.pyplot as plt\n",
    "import pandas as pd\n",
    "from matplotlib import rcParams\n",
    "import warnings\n",
    "warnings.filterwarnings('ignore')"
   ]
  },
  {
   "cell_type": "markdown",
   "id": "2fd6d7ce",
   "metadata": {},
   "source": [
    "## Step 2: Import data set"
   ]
  },
  {
   "cell_type": "code",
   "execution_count": 2,
   "id": "1858cf01",
   "metadata": {},
   "outputs": [],
   "source": [
    "dataset=pd.read_csv('heart.csv')"
   ]
  },
  {
   "cell_type": "code",
   "execution_count": 3,
   "id": "a1fb70c3",
   "metadata": {},
   "outputs": [
    {
     "data": {
      "text/html": [
       "<div>\n",
       "<style scoped>\n",
       "    .dataframe tbody tr th:only-of-type {\n",
       "        vertical-align: middle;\n",
       "    }\n",
       "\n",
       "    .dataframe tbody tr th {\n",
       "        vertical-align: top;\n",
       "    }\n",
       "\n",
       "    .dataframe thead th {\n",
       "        text-align: right;\n",
       "    }\n",
       "</style>\n",
       "<table border=\"1\" class=\"dataframe\">\n",
       "  <thead>\n",
       "    <tr style=\"text-align: right;\">\n",
       "      <th></th>\n",
       "      <th>age</th>\n",
       "      <th>sex</th>\n",
       "      <th>cp</th>\n",
       "      <th>trtbps</th>\n",
       "      <th>chol</th>\n",
       "      <th>fbs</th>\n",
       "      <th>restecg</th>\n",
       "      <th>thalachh</th>\n",
       "      <th>exng</th>\n",
       "      <th>oldpeak</th>\n",
       "      <th>slp</th>\n",
       "      <th>caa</th>\n",
       "      <th>thall</th>\n",
       "      <th>output</th>\n",
       "    </tr>\n",
       "  </thead>\n",
       "  <tbody>\n",
       "    <tr>\n",
       "      <th>0</th>\n",
       "      <td>63</td>\n",
       "      <td>1</td>\n",
       "      <td>3</td>\n",
       "      <td>145</td>\n",
       "      <td>233</td>\n",
       "      <td>1</td>\n",
       "      <td>0</td>\n",
       "      <td>150</td>\n",
       "      <td>0</td>\n",
       "      <td>2.3</td>\n",
       "      <td>0</td>\n",
       "      <td>0</td>\n",
       "      <td>1</td>\n",
       "      <td>1</td>\n",
       "    </tr>\n",
       "    <tr>\n",
       "      <th>1</th>\n",
       "      <td>37</td>\n",
       "      <td>1</td>\n",
       "      <td>2</td>\n",
       "      <td>130</td>\n",
       "      <td>250</td>\n",
       "      <td>0</td>\n",
       "      <td>1</td>\n",
       "      <td>187</td>\n",
       "      <td>0</td>\n",
       "      <td>3.5</td>\n",
       "      <td>0</td>\n",
       "      <td>0</td>\n",
       "      <td>2</td>\n",
       "      <td>1</td>\n",
       "    </tr>\n",
       "    <tr>\n",
       "      <th>2</th>\n",
       "      <td>41</td>\n",
       "      <td>0</td>\n",
       "      <td>1</td>\n",
       "      <td>130</td>\n",
       "      <td>204</td>\n",
       "      <td>0</td>\n",
       "      <td>0</td>\n",
       "      <td>172</td>\n",
       "      <td>0</td>\n",
       "      <td>1.4</td>\n",
       "      <td>2</td>\n",
       "      <td>0</td>\n",
       "      <td>2</td>\n",
       "      <td>1</td>\n",
       "    </tr>\n",
       "    <tr>\n",
       "      <th>3</th>\n",
       "      <td>56</td>\n",
       "      <td>1</td>\n",
       "      <td>1</td>\n",
       "      <td>120</td>\n",
       "      <td>236</td>\n",
       "      <td>0</td>\n",
       "      <td>1</td>\n",
       "      <td>178</td>\n",
       "      <td>0</td>\n",
       "      <td>0.8</td>\n",
       "      <td>2</td>\n",
       "      <td>0</td>\n",
       "      <td>2</td>\n",
       "      <td>1</td>\n",
       "    </tr>\n",
       "    <tr>\n",
       "      <th>4</th>\n",
       "      <td>57</td>\n",
       "      <td>0</td>\n",
       "      <td>0</td>\n",
       "      <td>120</td>\n",
       "      <td>354</td>\n",
       "      <td>0</td>\n",
       "      <td>1</td>\n",
       "      <td>163</td>\n",
       "      <td>1</td>\n",
       "      <td>0.6</td>\n",
       "      <td>2</td>\n",
       "      <td>0</td>\n",
       "      <td>2</td>\n",
       "      <td>1</td>\n",
       "    </tr>\n",
       "    <tr>\n",
       "      <th>...</th>\n",
       "      <td>...</td>\n",
       "      <td>...</td>\n",
       "      <td>...</td>\n",
       "      <td>...</td>\n",
       "      <td>...</td>\n",
       "      <td>...</td>\n",
       "      <td>...</td>\n",
       "      <td>...</td>\n",
       "      <td>...</td>\n",
       "      <td>...</td>\n",
       "      <td>...</td>\n",
       "      <td>...</td>\n",
       "      <td>...</td>\n",
       "      <td>...</td>\n",
       "    </tr>\n",
       "    <tr>\n",
       "      <th>298</th>\n",
       "      <td>57</td>\n",
       "      <td>0</td>\n",
       "      <td>0</td>\n",
       "      <td>140</td>\n",
       "      <td>241</td>\n",
       "      <td>0</td>\n",
       "      <td>1</td>\n",
       "      <td>123</td>\n",
       "      <td>1</td>\n",
       "      <td>0.2</td>\n",
       "      <td>1</td>\n",
       "      <td>0</td>\n",
       "      <td>3</td>\n",
       "      <td>0</td>\n",
       "    </tr>\n",
       "    <tr>\n",
       "      <th>299</th>\n",
       "      <td>45</td>\n",
       "      <td>1</td>\n",
       "      <td>3</td>\n",
       "      <td>110</td>\n",
       "      <td>264</td>\n",
       "      <td>0</td>\n",
       "      <td>1</td>\n",
       "      <td>132</td>\n",
       "      <td>0</td>\n",
       "      <td>1.2</td>\n",
       "      <td>1</td>\n",
       "      <td>0</td>\n",
       "      <td>3</td>\n",
       "      <td>0</td>\n",
       "    </tr>\n",
       "    <tr>\n",
       "      <th>300</th>\n",
       "      <td>68</td>\n",
       "      <td>1</td>\n",
       "      <td>0</td>\n",
       "      <td>144</td>\n",
       "      <td>193</td>\n",
       "      <td>1</td>\n",
       "      <td>1</td>\n",
       "      <td>141</td>\n",
       "      <td>0</td>\n",
       "      <td>3.4</td>\n",
       "      <td>1</td>\n",
       "      <td>2</td>\n",
       "      <td>3</td>\n",
       "      <td>0</td>\n",
       "    </tr>\n",
       "    <tr>\n",
       "      <th>301</th>\n",
       "      <td>57</td>\n",
       "      <td>1</td>\n",
       "      <td>0</td>\n",
       "      <td>130</td>\n",
       "      <td>131</td>\n",
       "      <td>0</td>\n",
       "      <td>1</td>\n",
       "      <td>115</td>\n",
       "      <td>1</td>\n",
       "      <td>1.2</td>\n",
       "      <td>1</td>\n",
       "      <td>1</td>\n",
       "      <td>3</td>\n",
       "      <td>0</td>\n",
       "    </tr>\n",
       "    <tr>\n",
       "      <th>302</th>\n",
       "      <td>57</td>\n",
       "      <td>0</td>\n",
       "      <td>1</td>\n",
       "      <td>130</td>\n",
       "      <td>236</td>\n",
       "      <td>0</td>\n",
       "      <td>0</td>\n",
       "      <td>174</td>\n",
       "      <td>0</td>\n",
       "      <td>0.0</td>\n",
       "      <td>1</td>\n",
       "      <td>1</td>\n",
       "      <td>2</td>\n",
       "      <td>0</td>\n",
       "    </tr>\n",
       "  </tbody>\n",
       "</table>\n",
       "<p>303 rows × 14 columns</p>\n",
       "</div>"
      ],
      "text/plain": [
       "     age  sex  cp  trtbps  chol  fbs  restecg  thalachh  exng  oldpeak  slp  \\\n",
       "0     63    1   3     145   233    1        0       150     0      2.3    0   \n",
       "1     37    1   2     130   250    0        1       187     0      3.5    0   \n",
       "2     41    0   1     130   204    0        0       172     0      1.4    2   \n",
       "3     56    1   1     120   236    0        1       178     0      0.8    2   \n",
       "4     57    0   0     120   354    0        1       163     1      0.6    2   \n",
       "..   ...  ...  ..     ...   ...  ...      ...       ...   ...      ...  ...   \n",
       "298   57    0   0     140   241    0        1       123     1      0.2    1   \n",
       "299   45    1   3     110   264    0        1       132     0      1.2    1   \n",
       "300   68    1   0     144   193    1        1       141     0      3.4    1   \n",
       "301   57    1   0     130   131    0        1       115     1      1.2    1   \n",
       "302   57    0   1     130   236    0        0       174     0      0.0    1   \n",
       "\n",
       "     caa  thall  output  \n",
       "0      0      1       1  \n",
       "1      0      2       1  \n",
       "2      0      2       1  \n",
       "3      0      2       1  \n",
       "4      0      2       1  \n",
       "..   ...    ...     ...  \n",
       "298    0      3       0  \n",
       "299    0      3       0  \n",
       "300    2      3       0  \n",
       "301    1      3       0  \n",
       "302    1      2       0  \n",
       "\n",
       "[303 rows x 14 columns]"
      ]
     },
     "execution_count": 3,
     "metadata": {},
     "output_type": "execute_result"
    }
   ],
   "source": [
    "dataset"
   ]
  },
  {
   "cell_type": "markdown",
   "id": "2ef2dbe3",
   "metadata": {},
   "source": [
    "## Step 3:Histogram"
   ]
  },
  {
   "cell_type": "code",
   "execution_count": 4,
   "id": "535aa519",
   "metadata": {},
   "outputs": [
    {
     "data": {
      "image/png": "[encoded data removed]",
      "text/plain": [
       "<Figure size 720x1080 with 16 Axes>"
      ]
     },
     "metadata": {
      "needs_background": "light"
     },
     "output_type": "display_data"
    }
   ],
   "source": [
    "fig=plt.figure(figsize=(10,15))\n",
    "ax=fig.gca()\n",
    "dataset.hist(ax=ax)\n",
    "plt.show()"
   ]
  },
  {
   "cell_type": "markdown",
   "id": "8d78af19",
   "metadata": {},
   "source": [
    "## Step 4: Bar Plot for Target Class"
   ]
  },
  {
   "cell_type": "code",
   "execution_count": 5,
   "id": "114555c0",
   "metadata": {},
   "outputs": [
    {
     "data": {
      "text/plain": [
       "Text(0.5, 1.0, 'Count on each target class')"
      ]
     },
     "execution_count": 5,
     "metadata": {},
     "output_type": "execute_result"
    },
    {
     "data": {
      "image/png": "[encoded data removed]",
      "text/plain": [
       "<Figure size 576x432 with 1 Axes>"
      ]
     },
     "metadata": {
      "needs_background": "light"
     },
     "output_type": "display_data"
    }
   ],
   "source": [
    "rcParams['figure.figsize']=8,6\n",
    "plt.bar(dataset['output'].unique(),dataset['output'].value_counts(),color=['red','blue'])\n",
    "plt.xticks([0,1])\n",
    "plt.xlabel('Target Classes')\n",
    "plt.ylabel('Count')\n",
    "plt.title('Count on each target class')"
   ]
  },
  {
   "cell_type": "markdown",
   "id": "35549c81",
   "metadata": {},
   "source": [
    "## Step 5: To create featured vector and dependent variable vector"
   ]
  },
  {
   "cell_type": "code",
   "execution_count": 6,
   "id": "71eb223f",
   "metadata": {},
   "outputs": [],
   "source": [
    "x=dataset.iloc[:,:-1].values\n",
    "y=dataset.iloc[:,-1].values"
   ]
  },
  {
   "cell_type": "code",
   "execution_count": 7,
   "id": "89d06e04",
   "metadata": {},
   "outputs": [
    {
     "data": {
      "text/plain": [
       "array([[63.,  1.,  3., ...,  0.,  0.,  1.],\n",
       "       [37.,  1.,  2., ...,  0.,  0.,  2.],\n",
       "       [41.,  0.,  1., ...,  2.,  0.,  2.],\n",
       "       ...,\n",
       "       [68.,  1.,  0., ...,  1.,  2.,  3.],\n",
       "       [57.,  1.,  0., ...,  1.,  1.,  3.],\n",
       "       [57.,  0.,  1., ...,  1.,  1.,  2.]])"
      ]
     },
     "execution_count": 7,
     "metadata": {},
     "output_type": "execute_result"
    }
   ],
   "source": [
    "x"
   ]
  },
  {
   "cell_type": "code",
   "execution_count": 8,
   "id": "8cf51a66",
   "metadata": {},
   "outputs": [
    {
     "data": {
      "text/plain": [
       "array([1, 1, 1, 1, 1, 1, 1, 1, 1, 1, 1, 1, 1, 1, 1, 1, 1, 1, 1, 1, 1, 1,\n",
       "       1, 1, 1, 1, 1, 1, 1, 1, 1, 1, 1, 1, 1, 1, 1, 1, 1, 1, 1, 1, 1, 1,\n",
       "       1, 1, 1, 1, 1, 1, 1, 1, 1, 1, 1, 1, 1, 1, 1, 1, 1, 1, 1, 1, 1, 1,\n",
       "       1, 1, 1, 1, 1, 1, 1, 1, 1, 1, 1, 1, 1, 1, 1, 1, 1, 1, 1, 1, 1, 1,\n",
       "       1, 1, 1, 1, 1, 1, 1, 1, 1, 1, 1, 1, 1, 1, 1, 1, 1, 1, 1, 1, 1, 1,\n",
       "       1, 1, 1, 1, 1, 1, 1, 1, 1, 1, 1, 1, 1, 1, 1, 1, 1, 1, 1, 1, 1, 1,\n",
       "       1, 1, 1, 1, 1, 1, 1, 1, 1, 1, 1, 1, 1, 1, 1, 1, 1, 1, 1, 1, 1, 1,\n",
       "       1, 1, 1, 1, 1, 1, 1, 1, 1, 1, 1, 0, 0, 0, 0, 0, 0, 0, 0, 0, 0, 0,\n",
       "       0, 0, 0, 0, 0, 0, 0, 0, 0, 0, 0, 0, 0, 0, 0, 0, 0, 0, 0, 0, 0, 0,\n",
       "       0, 0, 0, 0, 0, 0, 0, 0, 0, 0, 0, 0, 0, 0, 0, 0, 0, 0, 0, 0, 0, 0,\n",
       "       0, 0, 0, 0, 0, 0, 0, 0, 0, 0, 0, 0, 0, 0, 0, 0, 0, 0, 0, 0, 0, 0,\n",
       "       0, 0, 0, 0, 0, 0, 0, 0, 0, 0, 0, 0, 0, 0, 0, 0, 0, 0, 0, 0, 0, 0,\n",
       "       0, 0, 0, 0, 0, 0, 0, 0, 0, 0, 0, 0, 0, 0, 0, 0, 0, 0, 0, 0, 0, 0,\n",
       "       0, 0, 0, 0, 0, 0, 0, 0, 0, 0, 0, 0, 0, 0, 0, 0, 0], dtype=int64)"
      ]
     },
     "execution_count": 8,
     "metadata": {},
     "output_type": "execute_result"
    }
   ],
   "source": [
    "y"
   ]
  },
  {
   "cell_type": "markdown",
   "id": "9e9691bb",
   "metadata": {},
   "source": [
    "## Step 6: Replacing missing data"
   ]
  },
  {
   "cell_type": "code",
   "execution_count": 9,
   "id": "be38ae08",
   "metadata": {},
   "outputs": [],
   "source": [
    "from sklearn.impute import SimpleImputer\n",
    "imputer=SimpleImputer(missing_values=np.nan,strategy='mean')\n",
    "imputer.fit(x[:,:])\n",
    "x[:,:]=imputer.transform(x[:,:])"
   ]
  },
  {
   "cell_type": "markdown",
   "id": "7df4e7ca",
   "metadata": {},
   "source": [
    "## Step 7: Encoding(not required)"
   ]
  },
  {
   "cell_type": "markdown",
   "id": "d41a707e",
   "metadata": {},
   "source": [
    "## Step 8:spliting to data set into training data set and testing data set "
   ]
  },
  {
   "cell_type": "code",
   "execution_count": 18,
   "id": "a32e3c19",
   "metadata": {},
   "outputs": [],
   "source": [
    "from sklearn.model_selection import train_test_split\n",
    "xtrain,xtest,ytrain,ytest=train_test_split(x,y,test_size=0.2,random_state=1)"
   ]
  },
  {
   "cell_type": "code",
   "execution_count": 20,
   "id": "43f4ea0d",
   "metadata": {},
   "outputs": [
    {
     "data": {
      "text/plain": [
       "array([[52.,  1.,  3., ...,  1.,  0.,  1.],\n",
       "       [67.,  0.,  2., ...,  2.,  1.,  2.],\n",
       "       [57.,  1.,  2., ...,  2.,  1.,  3.],\n",
       "       ...,\n",
       "       [29.,  1.,  1., ...,  2.,  0.,  2.],\n",
       "       [51.,  1.,  0., ...,  2.,  0.,  3.],\n",
       "       [54.,  1.,  2., ...,  2.,  0.,  3.]])"
      ]
     },
     "execution_count": 20,
     "metadata": {},
     "output_type": "execute_result"
    }
   ],
   "source": [
    "xtrain"
   ]
  },
  {
   "cell_type": "code",
   "execution_count": 21,
   "id": "36cd3a96",
   "metadata": {},
   "outputs": [
    {
     "data": {
      "text/plain": [
       "array([[6.20e+01, 0.00e+00, 0.00e+00, 1.60e+02, 1.64e+02, 0.00e+00,\n",
       "        0.00e+00, 1.45e+02, 0.00e+00, 6.20e+00, 0.00e+00, 3.00e+00,\n",
       "        3.00e+00],\n",
       "       [5.60e+01, 1.00e+00, 1.00e+00, 1.30e+02, 2.21e+02, 0.00e+00,\n",
       "        0.00e+00, 1.63e+02, 0.00e+00, 0.00e+00, 2.00e+00, 0.00e+00,\n",
       "        3.00e+00],\n",
       "       [4.80e+01, 1.00e+00, 0.00e+00, 1.30e+02, 2.56e+02, 1.00e+00,\n",
       "        0.00e+00, 1.50e+02, 1.00e+00, 0.00e+00, 2.00e+00, 2.00e+00,\n",
       "        3.00e+00],\n",
       "       [6.00e+01, 1.00e+00, 0.00e+00, 1.30e+02, 2.06e+02, 0.00e+00,\n",
       "        0.00e+00, 1.32e+02, 1.00e+00, 2.40e+00, 1.00e+00, 2.00e+00,\n",
       "        3.00e+00],\n",
       "       [5.00e+01, 1.00e+00, 0.00e+00, 1.50e+02, 2.43e+02, 0.00e+00,\n",
       "        0.00e+00, 1.28e+02, 0.00e+00, 2.60e+00, 1.00e+00, 0.00e+00,\n",
       "        3.00e+00],\n",
       "       [6.30e+01, 1.00e+00, 0.00e+00, 1.40e+02, 1.87e+02, 0.00e+00,\n",
       "        0.00e+00, 1.44e+02, 1.00e+00, 4.00e+00, 2.00e+00, 2.00e+00,\n",
       "        3.00e+00],\n",
       "       [5.60e+01, 1.00e+00, 0.00e+00, 1.30e+02, 2.83e+02, 1.00e+00,\n",
       "        0.00e+00, 1.03e+02, 1.00e+00, 1.60e+00, 0.00e+00, 0.00e+00,\n",
       "        3.00e+00],\n",
       "       [4.60e+01, 0.00e+00, 0.00e+00, 1.38e+02, 2.43e+02, 0.00e+00,\n",
       "        0.00e+00, 1.52e+02, 1.00e+00, 0.00e+00, 1.00e+00, 0.00e+00,\n",
       "        2.00e+00],\n",
       "       [6.00e+01, 1.00e+00, 0.00e+00, 1.45e+02, 2.82e+02, 0.00e+00,\n",
       "        0.00e+00, 1.42e+02, 1.00e+00, 2.80e+00, 1.00e+00, 2.00e+00,\n",
       "        3.00e+00],\n",
       "       [3.90e+01, 0.00e+00, 2.00e+00, 1.38e+02, 2.20e+02, 0.00e+00,\n",
       "        1.00e+00, 1.52e+02, 0.00e+00, 0.00e+00, 1.00e+00, 0.00e+00,\n",
       "        2.00e+00],\n",
       "       [6.60e+01, 1.00e+00, 0.00e+00, 1.20e+02, 3.02e+02, 0.00e+00,\n",
       "        0.00e+00, 1.51e+02, 0.00e+00, 4.00e-01, 1.00e+00, 0.00e+00,\n",
       "        2.00e+00],\n",
       "       [6.90e+01, 1.00e+00, 2.00e+00, 1.40e+02, 2.54e+02, 0.00e+00,\n",
       "        0.00e+00, 1.46e+02, 0.00e+00, 2.00e+00, 1.00e+00, 3.00e+00,\n",
       "        3.00e+00],\n",
       "       [5.80e+01, 0.00e+00, 1.00e+00, 1.36e+02, 3.19e+02, 1.00e+00,\n",
       "        0.00e+00, 1.52e+02, 0.00e+00, 0.00e+00, 2.00e+00, 2.00e+00,\n",
       "        2.00e+00],\n",
       "       [6.40e+01, 1.00e+00, 2.00e+00, 1.25e+02, 3.09e+02, 0.00e+00,\n",
       "        1.00e+00, 1.31e+02, 1.00e+00, 1.80e+00, 1.00e+00, 0.00e+00,\n",
       "        3.00e+00],\n",
       "       [4.90e+01, 1.00e+00, 2.00e+00, 1.20e+02, 1.88e+02, 0.00e+00,\n",
       "        1.00e+00, 1.39e+02, 0.00e+00, 2.00e+00, 1.00e+00, 3.00e+00,\n",
       "        3.00e+00],\n",
       "       [5.70e+01, 0.00e+00, 1.00e+00, 1.30e+02, 2.36e+02, 0.00e+00,\n",
       "        0.00e+00, 1.74e+02, 0.00e+00, 0.00e+00, 1.00e+00, 1.00e+00,\n",
       "        2.00e+00],\n",
       "       [3.40e+01, 1.00e+00, 3.00e+00, 1.18e+02, 1.82e+02, 0.00e+00,\n",
       "        0.00e+00, 1.74e+02, 0.00e+00, 0.00e+00, 2.00e+00, 0.00e+00,\n",
       "        2.00e+00],\n",
       "       [6.30e+01, 0.00e+00, 0.00e+00, 1.50e+02, 4.07e+02, 0.00e+00,\n",
       "        0.00e+00, 1.54e+02, 0.00e+00, 4.00e+00, 1.00e+00, 3.00e+00,\n",
       "        3.00e+00],\n",
       "       [4.30e+01, 1.00e+00, 0.00e+00, 1.50e+02, 2.47e+02, 0.00e+00,\n",
       "        1.00e+00, 1.71e+02, 0.00e+00, 1.50e+00, 2.00e+00, 0.00e+00,\n",
       "        2.00e+00],\n",
       "       [5.90e+01, 1.00e+00, 3.00e+00, 1.70e+02, 2.88e+02, 0.00e+00,\n",
       "        0.00e+00, 1.59e+02, 0.00e+00, 2.00e-01, 1.00e+00, 0.00e+00,\n",
       "        3.00e+00],\n",
       "       [4.80e+01, 0.00e+00, 2.00e+00, 1.30e+02, 2.75e+02, 0.00e+00,\n",
       "        1.00e+00, 1.39e+02, 0.00e+00, 2.00e-01, 2.00e+00, 0.00e+00,\n",
       "        2.00e+00],\n",
       "       [6.80e+01, 1.00e+00, 0.00e+00, 1.44e+02, 1.93e+02, 1.00e+00,\n",
       "        1.00e+00, 1.41e+02, 0.00e+00, 3.40e+00, 1.00e+00, 2.00e+00,\n",
       "        3.00e+00],\n",
       "       [5.40e+01, 1.00e+00, 2.00e+00, 1.20e+02, 2.58e+02, 0.00e+00,\n",
       "        0.00e+00, 1.47e+02, 0.00e+00, 4.00e-01, 1.00e+00, 0.00e+00,\n",
       "        3.00e+00],\n",
       "       [4.40e+01, 0.00e+00, 2.00e+00, 1.18e+02, 2.42e+02, 0.00e+00,\n",
       "        1.00e+00, 1.49e+02, 0.00e+00, 3.00e-01, 1.00e+00, 1.00e+00,\n",
       "        2.00e+00],\n",
       "       [4.10e+01, 0.00e+00, 2.00e+00, 1.12e+02, 2.68e+02, 0.00e+00,\n",
       "        0.00e+00, 1.72e+02, 1.00e+00, 0.00e+00, 2.00e+00, 0.00e+00,\n",
       "        2.00e+00],\n",
       "       [3.80e+01, 1.00e+00, 2.00e+00, 1.38e+02, 1.75e+02, 0.00e+00,\n",
       "        1.00e+00, 1.73e+02, 0.00e+00, 0.00e+00, 2.00e+00, 4.00e+00,\n",
       "        2.00e+00],\n",
       "       [5.80e+01, 1.00e+00, 0.00e+00, 1.28e+02, 2.16e+02, 0.00e+00,\n",
       "        0.00e+00, 1.31e+02, 1.00e+00, 2.20e+00, 1.00e+00, 3.00e+00,\n",
       "        3.00e+00],\n",
       "       [4.10e+01, 1.00e+00, 2.00e+00, 1.12e+02, 2.50e+02, 0.00e+00,\n",
       "        1.00e+00, 1.79e+02, 0.00e+00, 0.00e+00, 2.00e+00, 0.00e+00,\n",
       "        2.00e+00],\n",
       "       [5.10e+01, 1.00e+00, 2.00e+00, 1.10e+02, 1.75e+02, 0.00e+00,\n",
       "        1.00e+00, 1.23e+02, 0.00e+00, 6.00e-01, 2.00e+00, 0.00e+00,\n",
       "        2.00e+00],\n",
       "       [5.40e+01, 0.00e+00, 2.00e+00, 1.08e+02, 2.67e+02, 0.00e+00,\n",
       "        0.00e+00, 1.67e+02, 0.00e+00, 0.00e+00, 2.00e+00, 0.00e+00,\n",
       "        2.00e+00],\n",
       "       [3.50e+01, 1.00e+00, 1.00e+00, 1.22e+02, 1.92e+02, 0.00e+00,\n",
       "        1.00e+00, 1.74e+02, 0.00e+00, 0.00e+00, 2.00e+00, 0.00e+00,\n",
       "        2.00e+00],\n",
       "       [4.90e+01, 1.00e+00, 1.00e+00, 1.30e+02, 2.66e+02, 0.00e+00,\n",
       "        1.00e+00, 1.71e+02, 0.00e+00, 6.00e-01, 2.00e+00, 0.00e+00,\n",
       "        2.00e+00],\n",
       "       [5.30e+01, 1.00e+00, 2.00e+00, 1.30e+02, 1.97e+02, 1.00e+00,\n",
       "        0.00e+00, 1.52e+02, 0.00e+00, 1.20e+00, 0.00e+00, 0.00e+00,\n",
       "        2.00e+00],\n",
       "       [5.70e+01, 0.00e+00, 0.00e+00, 1.28e+02, 3.03e+02, 0.00e+00,\n",
       "        0.00e+00, 1.59e+02, 0.00e+00, 0.00e+00, 2.00e+00, 1.00e+00,\n",
       "        2.00e+00],\n",
       "       [5.00e+01, 1.00e+00, 0.00e+00, 1.44e+02, 2.00e+02, 0.00e+00,\n",
       "        0.00e+00, 1.26e+02, 1.00e+00, 9.00e-01, 1.00e+00, 0.00e+00,\n",
       "        3.00e+00],\n",
       "       [5.10e+01, 1.00e+00, 0.00e+00, 1.40e+02, 2.61e+02, 0.00e+00,\n",
       "        0.00e+00, 1.86e+02, 1.00e+00, 0.00e+00, 2.00e+00, 0.00e+00,\n",
       "        2.00e+00],\n",
       "       [6.60e+01, 1.00e+00, 0.00e+00, 1.60e+02, 2.28e+02, 0.00e+00,\n",
       "        0.00e+00, 1.38e+02, 0.00e+00, 2.30e+00, 2.00e+00, 0.00e+00,\n",
       "        1.00e+00],\n",
       "       [6.70e+01, 1.00e+00, 0.00e+00, 1.25e+02, 2.54e+02, 1.00e+00,\n",
       "        1.00e+00, 1.63e+02, 0.00e+00, 2.00e-01, 1.00e+00, 2.00e+00,\n",
       "        3.00e+00],\n",
       "       [4.10e+01, 1.00e+00, 0.00e+00, 1.10e+02, 1.72e+02, 0.00e+00,\n",
       "        0.00e+00, 1.58e+02, 0.00e+00, 0.00e+00, 2.00e+00, 0.00e+00,\n",
       "        3.00e+00],\n",
       "       [5.30e+01, 1.00e+00, 0.00e+00, 1.42e+02, 2.26e+02, 0.00e+00,\n",
       "        0.00e+00, 1.11e+02, 1.00e+00, 0.00e+00, 2.00e+00, 0.00e+00,\n",
       "        3.00e+00],\n",
       "       [6.30e+01, 0.00e+00, 1.00e+00, 1.40e+02, 1.95e+02, 0.00e+00,\n",
       "        1.00e+00, 1.79e+02, 0.00e+00, 0.00e+00, 2.00e+00, 2.00e+00,\n",
       "        2.00e+00],\n",
       "       [5.70e+01, 1.00e+00, 0.00e+00, 1.30e+02, 1.31e+02, 0.00e+00,\n",
       "        1.00e+00, 1.15e+02, 1.00e+00, 1.20e+00, 1.00e+00, 1.00e+00,\n",
       "        3.00e+00],\n",
       "       [5.70e+01, 1.00e+00, 0.00e+00, 1.10e+02, 2.01e+02, 0.00e+00,\n",
       "        1.00e+00, 1.26e+02, 1.00e+00, 1.50e+00, 1.00e+00, 0.00e+00,\n",
       "        1.00e+00],\n",
       "       [5.60e+01, 0.00e+00, 0.00e+00, 2.00e+02, 2.88e+02, 1.00e+00,\n",
       "        0.00e+00, 1.33e+02, 1.00e+00, 4.00e+00, 0.00e+00, 2.00e+00,\n",
       "        3.00e+00],\n",
       "       [6.30e+01, 0.00e+00, 0.00e+00, 1.24e+02, 1.97e+02, 0.00e+00,\n",
       "        1.00e+00, 1.36e+02, 1.00e+00, 0.00e+00, 1.00e+00, 0.00e+00,\n",
       "        2.00e+00],\n",
       "       [6.10e+01, 0.00e+00, 0.00e+00, 1.30e+02, 3.30e+02, 0.00e+00,\n",
       "        0.00e+00, 1.69e+02, 0.00e+00, 0.00e+00, 2.00e+00, 0.00e+00,\n",
       "        2.00e+00],\n",
       "       [5.50e+01, 0.00e+00, 0.00e+00, 1.28e+02, 2.05e+02, 0.00e+00,\n",
       "        2.00e+00, 1.30e+02, 1.00e+00, 2.00e+00, 1.00e+00, 1.00e+00,\n",
       "        3.00e+00],\n",
       "       [5.70e+01, 0.00e+00, 0.00e+00, 1.20e+02, 3.54e+02, 0.00e+00,\n",
       "        1.00e+00, 1.63e+02, 1.00e+00, 6.00e-01, 2.00e+00, 0.00e+00,\n",
       "        2.00e+00],\n",
       "       [4.00e+01, 1.00e+00, 0.00e+00, 1.52e+02, 2.23e+02, 0.00e+00,\n",
       "        1.00e+00, 1.81e+02, 0.00e+00, 0.00e+00, 2.00e+00, 0.00e+00,\n",
       "        3.00e+00],\n",
       "       [6.40e+01, 0.00e+00, 2.00e+00, 1.40e+02, 3.13e+02, 0.00e+00,\n",
       "        1.00e+00, 1.33e+02, 0.00e+00, 2.00e-01, 2.00e+00, 0.00e+00,\n",
       "        3.00e+00],\n",
       "       [5.20e+01, 1.00e+00, 1.00e+00, 1.28e+02, 2.05e+02, 1.00e+00,\n",
       "        1.00e+00, 1.84e+02, 0.00e+00, 0.00e+00, 2.00e+00, 0.00e+00,\n",
       "        2.00e+00],\n",
       "       [5.00e+01, 1.00e+00, 2.00e+00, 1.40e+02, 2.33e+02, 0.00e+00,\n",
       "        1.00e+00, 1.63e+02, 0.00e+00, 6.00e-01, 1.00e+00, 1.00e+00,\n",
       "        3.00e+00],\n",
       "       [4.50e+01, 1.00e+00, 3.00e+00, 1.10e+02, 2.64e+02, 0.00e+00,\n",
       "        1.00e+00, 1.32e+02, 0.00e+00, 1.20e+00, 1.00e+00, 0.00e+00,\n",
       "        3.00e+00],\n",
       "       [5.80e+01, 0.00e+00, 0.00e+00, 1.00e+02, 2.48e+02, 0.00e+00,\n",
       "        0.00e+00, 1.22e+02, 0.00e+00, 1.00e+00, 1.00e+00, 0.00e+00,\n",
       "        2.00e+00],\n",
       "       [5.80e+01, 0.00e+00, 2.00e+00, 1.20e+02, 3.40e+02, 0.00e+00,\n",
       "        1.00e+00, 1.72e+02, 0.00e+00, 0.00e+00, 2.00e+00, 0.00e+00,\n",
       "        2.00e+00],\n",
       "       [5.40e+01, 0.00e+00, 2.00e+00, 1.10e+02, 2.14e+02, 0.00e+00,\n",
       "        1.00e+00, 1.58e+02, 0.00e+00, 1.60e+00, 1.00e+00, 0.00e+00,\n",
       "        2.00e+00],\n",
       "       [6.30e+01, 1.00e+00, 3.00e+00, 1.45e+02, 2.33e+02, 1.00e+00,\n",
       "        0.00e+00, 1.50e+02, 0.00e+00, 2.30e+00, 0.00e+00, 0.00e+00,\n",
       "        1.00e+00],\n",
       "       [5.70e+01, 1.00e+00, 0.00e+00, 1.10e+02, 3.35e+02, 0.00e+00,\n",
       "        1.00e+00, 1.43e+02, 1.00e+00, 3.00e+00, 1.00e+00, 1.00e+00,\n",
       "        3.00e+00],\n",
       "       [3.80e+01, 1.00e+00, 3.00e+00, 1.20e+02, 2.31e+02, 0.00e+00,\n",
       "        1.00e+00, 1.82e+02, 1.00e+00, 3.80e+00, 1.00e+00, 0.00e+00,\n",
       "        3.00e+00],\n",
       "       [5.70e+01, 1.00e+00, 0.00e+00, 1.50e+02, 2.76e+02, 0.00e+00,\n",
       "        0.00e+00, 1.12e+02, 1.00e+00, 6.00e-01, 1.00e+00, 1.00e+00,\n",
       "        1.00e+00],\n",
       "       [6.40e+01, 0.00e+00, 0.00e+00, 1.80e+02, 3.25e+02, 0.00e+00,\n",
       "        1.00e+00, 1.54e+02, 1.00e+00, 0.00e+00, 2.00e+00, 0.00e+00,\n",
       "        2.00e+00]])"
      ]
     },
     "execution_count": 21,
     "metadata": {},
     "output_type": "execute_result"
    }
   ],
   "source": [
    "xtest"
   ]
  },
  {
   "cell_type": "markdown",
   "id": "78b7fadc",
   "metadata": {},
   "source": [
    "## Step 9: feature scaling"
   ]
  },
  {
   "cell_type": "code",
   "execution_count": 56,
   "id": "621376be",
   "metadata": {},
   "outputs": [],
   "source": [
    "from sklearn.preprocessing import StandardScaler\n",
    "sc=StandardScaler()\n",
    "xtrain=sc.fit_transform(xtrain)\n",
    "xtest=sc.fit_transform(xtest)"
   ]
  },
  {
   "cell_type": "code",
   "execution_count": 57,
   "id": "197306eb",
   "metadata": {},
   "outputs": [
    {
     "data": {
      "text/plain": [
       "array([[-0.27090572,  0.6636838 ,  1.9766492 , ..., -0.66896473,\n",
       "        -0.72428597, -2.11701865],\n",
       "       [ 1.3708101 , -1.50674161,  0.99843017, ...,  0.96628239,\n",
       "         0.27160724, -0.47497213],\n",
       "       [ 0.27633288,  0.6636838 ,  0.99843017, ...,  0.96628239,\n",
       "         0.27160724,  1.16707438],\n",
       "       ...,\n",
       "       [-2.78820331,  0.6636838 ,  0.02021114, ...,  0.96628239,\n",
       "        -0.72428597, -0.47497213],\n",
       "       [-0.38035344,  0.6636838 , -0.95800789, ...,  0.96628239,\n",
       "        -0.72428597,  1.16707438],\n",
       "       [-0.05201028,  0.6636838 ,  0.99843017, ...,  0.96628239,\n",
       "        -0.72428597,  1.16707438]])"
      ]
     },
     "execution_count": 57,
     "metadata": {},
     "output_type": "execute_result"
    }
   ],
   "source": [
    "xtrain"
   ]
  },
  {
   "cell_type": "code",
   "execution_count": 58,
   "id": "a0a61ba6",
   "metadata": {},
   "outputs": [
    {
     "data": {
      "text/plain": [
       "array([[ 0.9194768 , -1.33143805, -0.86574938,  1.52235455, -1.5417599 ,\n",
       "        -0.41602515, -0.92493962, -0.25525849, -0.75106762,  3.69304024,\n",
       "        -2.16628237,  2.0851727 ,  0.96629063],\n",
       "       [ 0.23547577,  0.75106762,  0.07729905, -0.14385886, -0.46790189,\n",
       "        -0.41602515, -0.92493962,  0.64018504, -0.75106762, -0.80087166,\n",
       "         1.01789171, -0.67994762,  0.96629063],\n",
       "       [-0.67652561,  0.75106762, -0.86574938, -0.14385886,  0.1914846 ,\n",
       "         2.40370085, -0.92493962, -0.00652418,  1.33143805, -0.80087166,\n",
       "         1.01789171,  1.16346593,  0.96629063],\n",
       "       [ 0.69147646,  0.75106762, -0.86574938, -0.14385886, -0.75049611,\n",
       "        -0.41602515, -0.92493962, -0.90196771,  1.33143805,  0.93870714,\n",
       "        -0.57419533,  1.16346593,  0.96629063],\n",
       "       [-0.44852527,  0.75106762, -0.86574938,  0.96695008, -0.05343038,\n",
       "        -0.41602515, -0.92493962, -1.10095516, -0.75106762,  1.08367204,\n",
       "        -0.57419533, -0.67994762,  0.96629063],\n",
       "       [ 1.03347698,  0.75106762, -0.86574938,  0.41154561, -1.10844877,\n",
       "        -0.41602515, -0.92493962, -0.30500536,  1.33143805,  2.09842634,\n",
       "         1.01789171,  1.16346593,  0.96629063],\n",
       "       [ 0.23547577,  0.75106762, -0.86574938, -0.14385886,  0.70015419,\n",
       "         2.40370085, -0.92493962, -2.34462673,  1.33143805,  0.35884754,\n",
       "        -2.16628237, -0.67994762,  0.96629063],\n",
       "       [-0.90452596, -1.33143805, -0.86574938,  0.30046471, -0.05343038,\n",
       "        -0.41602515, -0.92493962,  0.09296955,  1.33143805, -0.80087166,\n",
       "        -0.57419533, -0.67994762, -0.67103516],\n",
       "       [ 0.69147646,  0.75106762, -0.86574938,  0.68924784,  0.68131457,\n",
       "        -0.41602515, -0.92493962, -0.40449908,  1.33143805,  1.22863694,\n",
       "        -0.57419533,  1.16346593,  0.96629063],\n",
       "       [-1.70252717, -1.33143805,  1.02034748,  0.30046471, -0.48674151,\n",
       "        -0.41602515,  0.95577094,  0.09296955, -0.75106762, -0.80087166,\n",
       "        -0.57419533, -0.67994762, -0.67103516],\n",
       "       [ 1.37547749,  0.75106762, -0.86574938, -0.69926333,  1.05810685,\n",
       "        -0.41602515, -0.92493962,  0.04322268, -0.75106762, -0.51094186,\n",
       "        -0.57419533, -0.67994762, -0.67103516],\n",
       "       [ 1.71747801,  0.75106762,  1.02034748,  0.41154561,  0.15380537,\n",
       "        -0.41602515, -0.92493962, -0.20551163, -0.75106762,  0.64877734,\n",
       "        -0.57419533,  2.0851727 ,  0.96629063],\n",
       "       [ 0.46347611, -1.33143805,  0.07729905,  0.18938382,  1.3783803 ,\n",
       "         2.40370085, -0.92493962,  0.09296955, -0.75106762, -0.80087166,\n",
       "         1.01789171,  1.16346593, -0.67103516],\n",
       "       [ 1.14747715,  0.75106762,  1.02034748, -0.4215611 ,  1.18998415,\n",
       "        -0.41602515,  0.95577094, -0.95171457,  1.33143805,  0.50381244,\n",
       "        -0.57419533, -0.67994762,  0.96629063],\n",
       "       [-0.56252544,  0.75106762,  1.02034748, -0.69926333, -1.08960916,\n",
       "        -0.41602515,  0.95577094, -0.55373967, -0.75106762,  0.64877734,\n",
       "        -0.57419533,  2.0851727 ,  0.96629063],\n",
       "       [ 0.34947594, -1.33143805,  0.07729905, -0.14385886, -0.18530768,\n",
       "        -0.41602515, -0.92493962,  1.18740053, -0.75106762, -0.80087166,\n",
       "        -0.57419533,  0.24175915, -0.67103516],\n",
       "       [-2.27252803,  0.75106762,  1.96339591, -0.81034423, -1.20264684,\n",
       "        -0.41602515, -0.92493962,  1.18740053, -0.75106762, -0.80087166,\n",
       "         1.01789171, -0.67994762, -0.67103516],\n",
       "       [ 1.03347698, -1.33143805, -0.86574938,  0.96695008,  3.03626634,\n",
       "        -0.41602515, -0.92493962,  0.19246327, -0.75106762,  2.09842634,\n",
       "        -0.57419533,  2.0851727 ,  0.96629063],\n",
       "       [-1.24652648,  0.75106762, -0.86574938,  0.96695008,  0.02192808,\n",
       "        -0.41602515,  0.95577094,  1.03815994, -0.75106762,  0.28636509,\n",
       "         1.01789171, -0.67994762, -0.67103516],\n",
       "       [ 0.57747628,  0.75106762,  1.96339591,  2.07775902,  0.79435226,\n",
       "        -0.41602515, -0.92493962,  0.44119759, -0.75106762, -0.65590676,\n",
       "        -0.57419533, -0.67994762,  0.96629063],\n",
       "       [-0.67652561, -1.33143805,  1.02034748, -0.14385886,  0.54943727,\n",
       "        -0.41602515,  0.95577094, -0.55373967, -0.75106762, -0.65590676,\n",
       "         1.01789171, -0.67994762, -0.67103516],\n",
       "       [ 1.60347784,  0.75106762, -0.86574938,  0.6337074 , -0.99541109,\n",
       "         2.40370085,  0.95577094, -0.45424594, -0.75106762,  1.66353164,\n",
       "        -0.57419533,  1.16346593,  0.96629063],\n",
       "       [ 0.00747542,  0.75106762,  1.02034748, -0.69926333,  0.22916383,\n",
       "        -0.41602515, -0.92493962, -0.15576477, -0.75106762, -0.51094186,\n",
       "        -0.57419533, -0.67994762,  0.96629063],\n",
       "       [-1.13252631, -1.33143805,  1.02034748, -0.81034423, -0.07227   ,\n",
       "        -0.41602515,  0.95577094, -0.05627104, -0.75106762, -0.58342431,\n",
       "        -0.57419533,  0.24175915, -0.67103516],\n",
       "       [-1.47452682, -1.33143805,  1.02034748, -1.14358691,  0.41755997,\n",
       "        -0.41602515, -0.92493962,  1.0879068 ,  1.33143805, -0.80087166,\n",
       "         1.01789171, -0.67994762, -0.67103516],\n",
       "       [-1.81652734,  0.75106762,  1.02034748,  0.30046471, -1.33452414,\n",
       "        -0.41602515,  0.95577094,  1.13765367, -0.75106762, -0.80087166,\n",
       "         1.01789171,  3.00687948, -0.67103516],\n",
       "       [ 0.46347611,  0.75106762, -0.86574938, -0.25493976, -0.56209996,\n",
       "        -0.41602515, -0.92493962, -0.95171457,  1.33143805,  0.79374224,\n",
       "        -0.57419533,  2.0851727 ,  0.96629063],\n",
       "       [-1.47452682,  0.75106762,  1.02034748, -1.14358691,  0.07844692,\n",
       "        -0.41602515,  0.95577094,  1.43613484, -0.75106762, -0.80087166,\n",
       "         1.01789171, -0.67994762, -0.67103516],\n",
       "       [-0.3345251 ,  0.75106762,  1.02034748, -1.25466781, -1.33452414,\n",
       "        -0.41602515,  0.95577094, -1.34968948, -0.75106762, -0.36597696,\n",
       "         1.01789171, -0.67994762, -0.67103516],\n",
       "       [ 0.00747542, -1.33143805,  1.02034748, -1.3657487 ,  0.39872036,\n",
       "        -0.41602515, -0.92493962,  0.83917249, -0.75106762, -0.80087166,\n",
       "         1.01789171, -0.67994762, -0.67103516],\n",
       "       [-2.15852786,  0.75106762,  0.07729905, -0.58818244, -1.0142507 ,\n",
       "        -0.41602515,  0.95577094,  1.18740053, -0.75106762, -0.80087166,\n",
       "         1.01789171, -0.67994762, -0.67103516],\n",
       "       [-0.56252544,  0.75106762,  0.07729905, -0.14385886,  0.37988074,\n",
       "        -0.41602515,  0.95577094,  1.03815994, -0.75106762, -0.36597696,\n",
       "         1.01789171, -0.67994762, -0.67103516],\n",
       "       [-0.10652475,  0.75106762,  1.02034748, -0.14385886, -0.92005263,\n",
       "         2.40370085, -0.92493962,  0.09296955, -0.75106762,  0.06891774,\n",
       "        -2.16628237, -0.67994762, -0.67103516],\n",
       "       [ 0.34947594, -1.33143805, -0.86574938, -0.25493976,  1.07694647,\n",
       "        -0.41602515, -0.92493962,  0.44119759, -0.75106762, -0.80087166,\n",
       "         1.01789171,  0.24175915, -0.67103516],\n",
       "       [-0.44852527,  0.75106762, -0.86574938,  0.6337074 , -0.86353379,\n",
       "        -0.41602515, -0.92493962, -1.20044889,  1.33143805, -0.14852961,\n",
       "        -0.57419533, -0.67994762,  0.96629063],\n",
       "       [-0.3345251 ,  0.75106762, -0.86574938,  0.41154561,  0.28568267,\n",
       "        -0.41602515, -0.92493962,  1.78436288,  1.33143805, -0.80087166,\n",
       "         1.01789171, -0.67994762, -0.67103516],\n",
       "       [ 1.37547749,  0.75106762, -0.86574938,  1.52235455, -0.33602459,\n",
       "        -0.41602515, -0.92493962, -0.60348653, -0.75106762,  0.86622469,\n",
       "         1.01789171, -0.67994762, -2.30836095],\n",
       "       [ 1.48947767,  0.75106762, -0.86574938, -0.4215611 ,  0.15380537,\n",
       "         2.40370085,  0.95577094,  0.64018504, -0.75106762, -0.65590676,\n",
       "        -0.57419533,  1.16346593,  0.96629063],\n",
       "       [-1.47452682,  0.75106762, -0.86574938, -1.25466781, -1.39104299,\n",
       "        -0.41602515, -0.92493962,  0.39145072, -0.75106762, -0.80087166,\n",
       "         1.01789171, -0.67994762,  0.96629063],\n",
       "       [-0.10652475,  0.75106762, -0.86574938,  0.5226265 , -0.37370382,\n",
       "        -0.41602515, -0.92493962, -1.94665183,  1.33143805, -0.80087166,\n",
       "         1.01789171, -0.67994762,  0.96629063],\n",
       "       [ 1.03347698, -1.33143805,  0.07729905,  0.41154561, -0.95773186,\n",
       "        -0.41602515,  0.95577094,  1.43613484, -0.75106762, -0.80087166,\n",
       "         1.01789171,  1.16346593, -0.67103516],\n",
       "       [ 0.34947594,  0.75106762, -0.86574938, -0.14385886, -2.16346717,\n",
       "        -0.41602515,  0.95577094, -1.74766438,  1.33143805,  0.06891774,\n",
       "        -0.57419533,  0.24175915,  0.96629063],\n",
       "       [ 0.34947594,  0.75106762, -0.86574938, -1.25466781, -0.84469418,\n",
       "        -0.41602515,  0.95577094, -1.20044889,  1.33143805,  0.28636509,\n",
       "        -0.57419533, -0.67994762, -2.30836095],\n",
       "       [ 0.23547577, -1.33143805, -0.86574938,  3.74397244,  0.79435226,\n",
       "         2.40370085, -0.92493962, -0.85222085,  1.33143805,  2.09842634,\n",
       "        -2.16628237,  1.16346593,  0.96629063],\n",
       "       [ 1.03347698, -1.33143805, -0.86574938, -0.47710155, -0.92005263,\n",
       "        -0.41602515,  0.95577094, -0.70298026,  1.33143805, -0.80087166,\n",
       "        -0.57419533, -0.67994762, -0.67103516],\n",
       "       [ 0.80547663, -1.33143805, -0.86574938, -0.14385886,  1.58561605,\n",
       "        -0.41602515, -0.92493962,  0.93866622, -0.75106762, -0.80087166,\n",
       "         1.01789171, -0.67994762, -0.67103516],\n",
       "       [ 0.12147559, -1.33143805, -0.86574938, -0.25493976, -0.76933572,\n",
       "        -0.41602515,  2.83648151, -1.00146144,  1.33143805,  0.64877734,\n",
       "        -0.57419533,  0.24175915,  0.96629063],\n",
       "       [ 0.34947594, -1.33143805, -0.86574938, -0.69926333,  2.03776679,\n",
       "        -0.41602515,  0.95577094,  0.64018504,  1.33143805, -0.36597696,\n",
       "         1.01789171, -0.67994762, -0.67103516],\n",
       "       [-1.588527  ,  0.75106762, -0.86574938,  1.07803097, -0.43022266,\n",
       "        -0.41602515,  0.95577094,  1.53562857, -0.75106762, -0.80087166,\n",
       "         1.01789171, -0.67994762,  0.96629063],\n",
       "       [ 1.14747715, -1.33143805,  1.02034748,  0.41154561,  1.26534261,\n",
       "        -0.41602515,  0.95577094, -0.85222085, -0.75106762, -0.65590676,\n",
       "         1.01789171, -0.67994762,  0.96629063],\n",
       "       [-0.22052492,  0.75106762,  0.07729905, -0.25493976, -0.76933572,\n",
       "         2.40370085,  0.95577094,  1.68486916, -0.75106762, -0.80087166,\n",
       "         1.01789171, -0.67994762, -0.67103516],\n",
       "       [-0.44852527,  0.75106762,  1.02034748,  0.41154561, -0.24182652,\n",
       "        -0.41602515,  0.95577094,  0.64018504, -0.75106762, -0.36597696,\n",
       "        -0.57419533,  0.24175915,  0.96629063],\n",
       "       [-1.01852613,  0.75106762,  1.96339591, -1.25466781,  0.34220152,\n",
       "        -0.41602515,  0.95577094, -0.90196771, -0.75106762,  0.06891774,\n",
       "        -0.57419533, -0.67994762,  0.96629063],\n",
       "       [ 0.46347611, -1.33143805, -0.86574938, -1.81007228,  0.04076769,\n",
       "        -0.41602515, -0.92493962, -1.39943634, -0.75106762, -0.07604716,\n",
       "        -0.57419533, -0.67994762, -0.67103516],\n",
       "       [ 0.46347611, -1.33143805,  1.02034748, -0.69926333,  1.77401219,\n",
       "        -0.41602515,  0.95577094,  1.0879068 , -0.75106762, -0.80087166,\n",
       "         1.01789171, -0.67994762, -0.67103516],\n",
       "       [ 0.00747542, -1.33143805,  1.02034748, -1.25466781, -0.59977919,\n",
       "        -0.41602515,  0.95577094,  0.39145072, -0.75106762,  0.35884754,\n",
       "        -0.57419533, -0.67994762, -0.67103516],\n",
       "       [ 1.03347698,  0.75106762,  1.96339591,  0.68924784, -0.24182652,\n",
       "         2.40370085, -0.92493962, -0.00652418, -0.75106762,  0.86622469,\n",
       "        -2.16628237, -0.67994762, -2.30836095],\n",
       "       [ 0.34947594,  0.75106762, -0.86574938, -1.25466781,  1.67981412,\n",
       "        -0.41602515,  0.95577094, -0.35475222,  1.33143805,  1.37360184,\n",
       "        -0.57419533,  0.24175915,  0.96629063],\n",
       "       [-1.81652734,  0.75106762,  1.96339591, -0.69926333, -0.27950575,\n",
       "        -0.41602515,  0.95577094,  1.58537543,  1.33143805,  1.95346144,\n",
       "        -0.57419533, -0.67994762,  0.96629063],\n",
       "       [ 0.34947594,  0.75106762, -0.86574938,  0.96695008,  0.56827689,\n",
       "        -0.41602515, -0.92493962, -1.89690497,  1.33143805, -0.36597696,\n",
       "        -0.57419533,  0.24175915, -2.30836095],\n",
       "       [ 1.14747715, -1.33143805, -0.86574938,  2.63316349,  1.49141798,\n",
       "        -0.41602515,  0.95577094,  0.19246327,  1.33143805, -0.80087166,\n",
       "         1.01789171, -0.67994762, -0.67103516]])"
      ]
     },
     "execution_count": 58,
     "metadata": {},
     "output_type": "execute_result"
    }
   ],
   "source": [
    "xtest"
   ]
  },
  {
   "cell_type": "markdown",
   "id": "15f5408b",
   "metadata": {},
   "source": [
    "# step B: Bulid classification model"
   ]
  },
  {
   "cell_type": "markdown",
   "id": "73d20132",
   "metadata": {},
   "source": [
    "## LOGISTIC REGRESSION"
   ]
  },
  {
   "cell_type": "markdown",
   "id": "872e088d",
   "metadata": {},
   "source": [
    "## step1: training the classification model"
   ]
  },
  {
   "cell_type": "code",
   "execution_count": 59,
   "id": "2c511968",
   "metadata": {},
   "outputs": [
    {
     "data": {
      "text/plain": [
       "LogisticRegression(random_state=0)"
      ]
     },
     "execution_count": 59,
     "metadata": {},
     "output_type": "execute_result"
    }
   ],
   "source": [
    "from sklearn.linear_model import LogisticRegression\n",
    "LoR=LogisticRegression(random_state=0)\n",
    "LoR.fit(xtrain,ytrain)"
   ]
  },
  {
   "cell_type": "markdown",
   "id": "70c2f479",
   "metadata": {},
   "source": [
    "## step2: predict the linear model"
   ]
  },
  {
   "cell_type": "code",
   "execution_count": 60,
   "id": "01abd483",
   "metadata": {},
   "outputs": [
    {
     "name": "stdout",
     "output_type": "stream",
     "text": [
      "[[0 0]\n",
      " [1 1]\n",
      " [0 0]\n",
      " [0 0]\n",
      " [0 0]\n",
      " [0 0]\n",
      " [0 0]\n",
      " [1 1]\n",
      " [0 0]\n",
      " [1 1]\n",
      " [0 1]\n",
      " [0 0]\n",
      " [1 0]\n",
      " [0 0]\n",
      " [0 0]\n",
      " [1 0]\n",
      " [1 1]\n",
      " [0 0]\n",
      " [1 1]\n",
      " [1 0]\n",
      " [1 1]\n",
      " [0 0]\n",
      " [1 1]\n",
      " [1 1]\n",
      " [1 1]\n",
      " [1 1]\n",
      " [0 0]\n",
      " [1 1]\n",
      " [1 1]\n",
      " [1 1]\n",
      " [1 1]\n",
      " [1 1]\n",
      " [1 1]\n",
      " [1 1]\n",
      " [0 0]\n",
      " [0 1]\n",
      " [0 1]\n",
      " [0 0]\n",
      " [1 0]\n",
      " [0 1]\n",
      " [1 1]\n",
      " [0 0]\n",
      " [0 1]\n",
      " [0 0]\n",
      " [1 0]\n",
      " [1 0]\n",
      " [0 0]\n",
      " [1 1]\n",
      " [1 0]\n",
      " [1 1]\n",
      " [1 1]\n",
      " [1 0]\n",
      " [1 0]\n",
      " [1 1]\n",
      " [1 1]\n",
      " [1 1]\n",
      " [1 1]\n",
      " [0 0]\n",
      " [1 0]\n",
      " [0 0]\n",
      " [1 1]]\n"
     ]
    }
   ],
   "source": [
    "yestimated=LoR.predict(xtest)\n",
    "print(np.concatenate((yestimated.reshape(len(yestimated),1),ytest.reshape(len(ytest),1)),1))"
   ]
  },
  {
   "cell_type": "markdown",
   "id": "70ba0b8e",
   "metadata": {},
   "source": [
    "## Step 3: performance metric"
   ]
  },
  {
   "cell_type": "code",
   "execution_count": 61,
   "id": "66fa2933",
   "metadata": {},
   "outputs": [
    {
     "name": "stdout",
     "output_type": "stream",
     "text": [
      "[[20 10]\n",
      " [ 5 26]]\n",
      "0.7540983606557377\n",
      "0.7222222222222222\n"
     ]
    }
   ],
   "source": [
    "from sklearn.metrics import confusion_matrix,accuracy_score,precision_score\n",
    "cn=confusion_matrix(ytest,yestimated)\n",
    "print(cn)\n",
    "print(accuracy_score(ytest,yestimated))\n",
    "print(precision_score(ytest,yestimated))"
   ]
  },
  {
   "cell_type": "code",
   "execution_count": 62,
   "id": "79a3b25f",
   "metadata": {},
   "outputs": [],
   "source": [
    "yestimated=LoR.predict(xtest)"
   ]
  },
  {
   "cell_type": "code",
   "execution_count": 63,
   "id": "f0c6365e",
   "metadata": {},
   "outputs": [
    {
     "data": {
      "text/plain": [
       "array([0, 1, 0, 0, 0, 0, 0, 1, 0, 1, 0, 0, 1, 0, 0, 1, 1, 0, 1, 1, 1, 0,\n",
       "       1, 1, 1, 1, 0, 1, 1, 1, 1, 1, 1, 1, 0, 0, 0, 0, 1, 0, 1, 0, 0, 0,\n",
       "       1, 1, 0, 1, 1, 1, 1, 1, 1, 1, 1, 1, 1, 0, 1, 0, 1], dtype=int64)"
      ]
     },
     "execution_count": 63,
     "metadata": {},
     "output_type": "execute_result"
    }
   ],
   "source": [
    "yestimated"
   ]
  },
  {
   "cell_type": "code",
   "execution_count": 64,
   "id": "e2f859ae",
   "metadata": {},
   "outputs": [],
   "source": [
    "yestimated=LoR.predict([[57,0,0,140,241,0,1,123,1,0.2,1,0,3]])"
   ]
  },
  {
   "cell_type": "code",
   "execution_count": 65,
   "id": "0430e2b4",
   "metadata": {},
   "outputs": [
    {
     "data": {
      "text/plain": [
       "array([0], dtype=int64)"
      ]
     },
     "execution_count": 65,
     "metadata": {},
     "output_type": "execute_result"
    }
   ],
   "source": [
    "yestimated"
   ]
  },
  {
   "cell_type": "markdown",
   "id": "5eb916b7",
   "metadata": {},
   "source": [
    "## K-NEAREST NEIGHBOUR"
   ]
  },
  {
   "cell_type": "markdown",
   "id": "3f57425b",
   "metadata": {},
   "source": [
    "## step 1. training the classification model"
   ]
  },
  {
   "cell_type": "code",
   "execution_count": 66,
   "id": "d6764f3a",
   "metadata": {},
   "outputs": [
    {
     "data": {
      "text/plain": [
       "KNeighborsClassifier(n_neighbors=10)"
      ]
     },
     "execution_count": 66,
     "metadata": {},
     "output_type": "execute_result"
    }
   ],
   "source": [
    "from sklearn.neighbors import KNeighborsClassifier\n",
    "kc=KNeighborsClassifier(n_neighbors=10,weights='uniform',p=2)\n",
    "kc.fit(xtrain,ytrain)"
   ]
  },
  {
   "cell_type": "markdown",
   "id": "a703747e",
   "metadata": {},
   "source": [
    "## step-2:  predict the model,testing"
   ]
  },
  {
   "cell_type": "code",
   "execution_count": 67,
   "id": "93a54eb5",
   "metadata": {},
   "outputs": [],
   "source": [
    "yestimated=kc.predict(xtest)"
   ]
  },
  {
   "cell_type": "code",
   "execution_count": 69,
   "id": "10ddb14e",
   "metadata": {},
   "outputs": [
    {
     "data": {
      "text/plain": [
       "array([0, 1, 0, 0, 0, 0, 0, 1, 0, 1, 1, 0, 1, 0, 0, 1, 1, 0, 1, 0, 1, 0,\n",
       "       0, 1, 1, 1, 0, 1, 1, 1, 1, 1, 1, 1, 0, 1, 0, 0, 1, 0, 1, 0, 0, 0,\n",
       "       1, 1, 0, 1, 1, 1, 1, 1, 0, 1, 1, 1, 1, 0, 1, 0, 1], dtype=int64)"
      ]
     },
     "execution_count": 69,
     "metadata": {},
     "output_type": "execute_result"
    }
   ],
   "source": [
    "yestimated"
   ]
  },
  {
   "cell_type": "code",
   "execution_count": 70,
   "id": "aeb1556e",
   "metadata": {},
   "outputs": [
    {
     "data": {
      "text/plain": [
       "1.0"
      ]
     },
     "execution_count": 70,
     "metadata": {},
     "output_type": "execute_result"
    }
   ],
   "source": [
    "np.mean([True,True])"
   ]
  },
  {
   "cell_type": "code",
   "execution_count": 71,
   "id": "9fea9156",
   "metadata": {},
   "outputs": [],
   "source": [
    "error_rate=[]\n",
    "for i in range(1,30):\n",
    "    kc=KNeighborsClassifier(n_neighbors=i)\n",
    "    kc.fit(xtrain,ytrain)\n",
    "    ypred_i=kc.predict(xtest)\n",
    "    error_rate.append(np.mean(ypred_i!=ytest))"
   ]
  },
  {
   "cell_type": "code",
   "execution_count": 72,
   "id": "62e1f0da",
   "metadata": {},
   "outputs": [
    {
     "data": {
      "text/plain": [
       "Text(0, 0.5, 'Error_rate')"
      ]
     },
     "execution_count": 72,
     "metadata": {},
     "output_type": "execute_result"
    },
    {
     "data": {
      "image/png": "[encoded data removed]",
      "text/plain": [
       "<Figure size 576x432 with 1 Axes>"
      ]
     },
     "metadata": {
      "needs_background": "light"
     },
     "output_type": "display_data"
    }
   ],
   "source": [
    "plt.plot(range(1,30),error_rate,marker='o',markerfacecolor='red',markersize=5)\n",
    "plt.xlabel('k_value')\n",
    "plt.ylabel('Error_rate')"
   ]
  },
  {
   "cell_type": "markdown",
   "id": "0221787a",
   "metadata": {},
   "source": [
    "## step 3:performance metrics"
   ]
  },
  {
   "cell_type": "code",
   "execution_count": 73,
   "id": "86a2b303",
   "metadata": {},
   "outputs": [
    {
     "name": "stdout",
     "output_type": "stream",
     "text": [
      "[[22  8]\n",
      " [ 4 27]]\n",
      "0.8032786885245902\n",
      "0.7714285714285715\n"
     ]
    }
   ],
   "source": [
    "from sklearn.metrics import confusion_matrix,accuracy_score,precision_score\n",
    "cn=confusion_matrix(ytest,yestimated)\n",
    "print(cn)\n",
    "print(accuracy_score(ytest,yestimated))\n",
    "print(precision_score(ytest,yestimated))"
   ]
  },
  {
   "cell_type": "code",
   "execution_count": 82,
   "id": "378b8c90",
   "metadata": {},
   "outputs": [],
   "source": [
    "yestimated=LoR.predict([[57,0,0,140,241,0,1,123,1,0.2,1,0,3]])"
   ]
  },
  {
   "cell_type": "code",
   "execution_count": 83,
   "id": "76d074c0",
   "metadata": {},
   "outputs": [
    {
     "data": {
      "text/plain": [
       "array([0], dtype=int64)"
      ]
     },
     "execution_count": 83,
     "metadata": {},
     "output_type": "execute_result"
    }
   ],
   "source": [
    "yestimated"
   ]
  }
 ],
 "metadata": {
  "kernelspec": {
   "display_name": "Python 3 (ipykernel)",
   "language": "python",
   "name": "python3"
  },
  "language_info": {
   "codemirror_mode": {
    "name": "ipython",
    "version": 3
   },
   "file_extension": ".py",
   "mimetype": "text/x-python",
   "name": "python",
   "nbconvert_exporter": "python",
   "pygments_lexer": "ipython3",
   "version": "3.9.7"
  }
 },
 "nbformat": 4,
 "nbformat_minor": 5
}
